{
  "nbformat": 4,
  "nbformat_minor": 0,
  "metadata": {
    "colab": {
      "name": "OPEN_CV2_Basic.ipynb",
      "provenance": []
    },
    "kernelspec": {
      "name": "python3",
      "display_name": "Python 3"
    }
  },
  "cells": [
    {
      "cell_type": "code",
      "metadata": {
        "id": "Ur6s9FTQjY1S"
      },
      "source": [
        "import cv2\r\n",
        "import numpy as np\r\n",
        "from google.colab.patches import cv2_imshow"
      ],
      "execution_count": null,
      "outputs": []
    },
    {
      "cell_type": "code",
      "metadata": {
        "id": "M3x8bt9F0pmN"
      },
      "source": [
        "face_cascade = cv2.CascadeClassifier('/content/haarcascade_frontalface_default.xml')"
      ],
      "execution_count": null,
      "outputs": []
    },
    {
      "cell_type": "code",
      "metadata": {
        "id": "y1-0Gkc-mnFe"
      },
      "source": [
        "image = cv2.imread('/content/cv1.jpg')"
      ],
      "execution_count": null,
      "outputs": []
    },
    {
      "cell_type": "code",
      "metadata": {
        "id": "Wl3ijGQMB8qA"
      },
      "source": [
        "gray = cv2.cvtColor(image,cv2.COLOR_BGR2GRAY)"
      ],
      "execution_count": null,
      "outputs": []
    },
    {
      "cell_type": "code",
      "metadata": {
        "id": "T1qqyi6JDlCk"
      },
      "source": [
        "face = face_cascade.detectMultiScale(gray,1.1,4,minSize=(30,30))"
      ],
      "execution_count": null,
      "outputs": []
    },
    {
      "cell_type": "code",
      "metadata": {
        "colab": {
          "base_uri": "https://localhost:8080/"
        },
        "id": "OmXCrwb7ET9M",
        "outputId": "8cf984b7-eef8-4d57-e0cf-2f8ff0bf2750"
      },
      "source": [
        "face"
      ],
      "execution_count": null,
      "outputs": [
        {
          "output_type": "execute_result",
          "data": {
            "text/plain": [
              "array([[132, 528, 719, 719]], dtype=int32)"
            ]
          },
          "metadata": {
            "tags": []
          },
          "execution_count": 6
        }
      ]
    },
    {
      "cell_type": "code",
      "metadata": {
        "id": "tZ_qijCwEdf8"
      },
      "source": [
        "for (x,y,w,h) in face:\r\n",
        "  cv2.rectangle(image,(x,y),(x+w,y+h),(255,0,0),2)"
      ],
      "execution_count": null,
      "outputs": []
    },
    {
      "cell_type": "code",
      "metadata": {
        "id": "CCb0w5I9FXWS"
      },
      "source": [
        "cv2.namedWindow(\"girl\",cv2.WINDOW_AUTOSIZE)\r\n",
        "cv2.imshow(\"girl\",image)\r\n",
        "cv2.waitKey(100)\r\n",
        "cv2.destroyAllWindows()"
      ],
      "execution_count": null,
      "outputs": []
    }
  ]
}